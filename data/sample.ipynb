{
 "cells": [
  {
   "cell_type": "code",
   "execution_count": 2,
   "metadata": {},
   "outputs": [],
   "source": [
    "import pandas as pd\n",
    "import re\n",
    "\n",
    "# CSVファイルを読み込む\n",
    "df = pd.read_csv('sample.csv')\n",
    "\n",
    "# \"科目名\"列に\"S評価\"が含まれる行を特定\n",
    "s_evaluation_subjects = df[df['科目名'].str.contains('S評価', na=False)]\n",
    "\n",
    "# 削除する科目名をログとして表示\n",
    "if not s_evaluation_subjects.empty:\n",
    "    print(\"削除する科目名:\")\n",
    "    print(s_evaluation_subjects['科目名'])\n",
    "\n",
    "# \"S評価\"を含む行を削除\n",
    "df = df[~df['科目名'].str.contains('S評価', na=False)]\n",
    "\n",
    "# \"時限\"列を表示\n",
    "print(df['時限'])\n",
    "\n",
    "# 学期曜日時限の列を分割する関数\n",
    "def split_term_day_period(value):\n",
    "    # 学期を抽出\n",
    "    term_patterns = r'(春学期|春クォーター|夏クォーター|秋学期|冬クォーター|冬クォーター|通年)'\n",
    "    terms = re.findall(term_patterns, value)\n",
    "    \n",
    "    # 例外処理: 学期がない、または複数ある場合\n",
    "    if len(terms) != 1:\n",
    "        return None, None, None  # 例外として処理\n",
    "    \n",
    "    term = terms[0]\n",
    "    \n",
    "    # 曜日を抽出\n",
    "    days = ''.join(re.findall(r'(月|火|水|木|金|土|日)', value))\n",
    "    days = days if days else '無'\n",
    "    \n",
    "    # 時限を抽出し、全角を半角に変換し、範囲を埋める\n",
    "    periods = re.findall(r'(\\d+)', value)\n",
    "    if periods:\n",
    "        periods = list(map(int, periods))  # 全角を半角に変換してintに\n",
    "        periods = list(range(min(periods), max(periods) + 1))  # 範囲を埋める\n",
    "    else:\n",
    "        periods = []\n",
    "    \n",
    "    return term, days, periods\n",
    "\n",
    "# 新しい列を追加\n",
    "df['学期'], df['曜日'], df['時限'] = zip(*df['学期曜日時限'].map(split_term_day_period))\n",
    "\n",
    "# 例外データを別のCSVに保存\n",
    "exception_df = df[df['学期'].isnull()]\n",
    "exception_df.to_csv('exceptions.csv', index=False)\n",
    "\n",
    "# 例外を除いたデータを保存\n",
    "df = df.dropna(subset=['学期'])\n",
    "df.to_csv('sample_modified.csv', index=False)"
   ]
  },
  {
   "cell_type": "code",
   "execution_count": null,
   "metadata": {},
   "outputs": [],
   "source": []
  }
 ],
 "metadata": {
  "kernelspec": {
   "display_name": "venv",
   "language": "python",
   "name": "python3"
  },
  "language_info": {
   "codemirror_mode": {
    "name": "ipython",
    "version": 3
   },
   "file_extension": ".py",
   "mimetype": "text/x-python",
   "name": "python",
   "nbconvert_exporter": "python",
   "pygments_lexer": "ipython3",
   "version": "3.11.5"
  }
 },
 "nbformat": 4,
 "nbformat_minor": 2
}
